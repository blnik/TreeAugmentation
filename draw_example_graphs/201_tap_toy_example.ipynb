{
 "cells": [
  {
   "cell_type": "code",
   "execution_count": 1,
   "id": "428d2a50",
   "metadata": {},
   "outputs": [],
   "source": [
    "# working with graphs\n",
    "import networkx as nx\n",
    "\n",
    "# plotting \n",
    "import matplotlib.pyplot as plt\n",
    "%matplotlib inline\n",
    "import pydot\n",
    "from networkx.drawing.nx_pydot import graphviz_layout"
   ]
  },
  {
   "cell_type": "code",
   "execution_count": 2,
   "id": "88ecb9f7",
   "metadata": {},
   "outputs": [],
   "source": [
    "# links example\n",
    "n = 10\n",
    "tree = nx.random_tree(n, seed = 2)\n",
    "root = 5\n",
    "\n",
    "directed_tree = nx.bfs_tree(tree, root)\n",
    "pos = graphviz_layout(directed_tree, prog=\"dot\")"
   ]
  },
  {
   "cell_type": "code",
   "execution_count": 24,
   "id": "88a4f0a4",
   "metadata": {
    "code_folding": []
   },
   "outputs": [],
   "source": [
    "def draw_edge(edge, color, curvature):\n",
    "    nx.draw_networkx_edges(\n",
    "        directed_tree, \n",
    "        pos = pos, \n",
    "        edgelist = [edge],  \n",
    "        edge_color = color,\n",
    "        connectionstyle=f'arc3,rad={curvature}', \n",
    "        arrowstyle = '-',\n",
    "        style = '--',\n",
    "        width = 2,\n",
    "        node_size = 100\n",
    "    )"
   ]
  },
  {
   "cell_type": "code",
   "execution_count": 25,
   "id": "14ea7d50",
   "metadata": {
    "code_folding": []
   },
   "outputs": [],
   "source": [
    "def draw_tree():\n",
    "    nx.draw_networkx(\n",
    "        directed_tree,\n",
    "        pos = pos,\n",
    "        edge_color = 'black',\n",
    "        node_color = 'black',\n",
    "        arrowstyle = '-',\n",
    "        node_size = 100,\n",
    "        width = 1.5,\n",
    "        with_labels = False\n",
    "    )\n",
    "    \n",
    "    labels = {}\n",
    "\n",
    "    k = 1\n",
    "    for node in directed_tree.nodes():\n",
    "        if node == root:\n",
    "            labels[root] = '$r$'\n",
    "        else:\n",
    "            labels[node] = k\n",
    "            k += 1\n",
    "\n",
    "    #nx.draw_networkx_labels(directed_tree,pos,labels)"
   ]
  },
  {
   "cell_type": "code",
   "execution_count": 26,
   "id": "fb67c997",
   "metadata": {
    "code_folding": []
   },
   "outputs": [
    {
     "data": {
      "image/png": "[encoded data removed]",
      "text/plain": [
       "<Figure size 432x288 with 1 Axes>"
      ]
     },
     "metadata": {},
     "output_type": "display_data"
    }
   ],
   "source": [
    "fig, ax = plt.subplots(1, 1, tight_layout = True)\n",
    "fig.set_size_inches(6, 4)\n",
    "\n",
    "\n",
    "plt.sca(ax)\n",
    "plt.axis('off')\n",
    "\n",
    "# plot the original tree\n",
    "draw_tree()\n",
    "plt.savefig('../presentation_images/tap_toy_example_no_links.png', dpi = 200)\n",
    "\n",
    "\n",
    "# plot the links\n",
    "draw_edge((2,9), 'C0', -0.2)\n",
    "draw_edge((3,8), 'C0', 0.2)\n",
    "draw_edge((0,6), 'C0', 0.2)\n",
    "draw_edge((root, 8), 'C0', -0.8)\n",
    "draw_edge((3, 7), 'C0', 0.2)\n",
    "draw_edge((1, 4), 'C0', 0.2)\n",
    "\n",
    "\n",
    "\n",
    "\n",
    "\n",
    "plt.savefig('../presentation_images/tap_toy_example_with_links.png', dpi = 200)\n",
    "plt.show()"
   ]
  },
  {
   "cell_type": "code",
   "execution_count": null,
   "id": "434ecb34",
   "metadata": {},
   "outputs": [],
   "source": []
  }
 ],
 "metadata": {
  "hide_input": false,
  "kernelspec": {
   "display_name": "Python 3 (ipykernel)",
   "language": "python",
   "name": "python3"
  },
  "language_info": {
   "codemirror_mode": {
    "name": "ipython",
    "version": 3
   },
   "file_extension": ".py",
   "mimetype": "text/x-python",
   "name": "python",
   "nbconvert_exporter": "python",
   "pygments_lexer": "ipython3",
   "version": "3.9.6"
  }
 },
 "nbformat": 4,
 "nbformat_minor": 5
}
