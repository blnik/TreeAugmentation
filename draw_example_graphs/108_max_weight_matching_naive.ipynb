{
 "cells": [
  {
   "cell_type": "code",
   "execution_count": 1,
   "id": "c4492c2e",
   "metadata": {},
   "outputs": [],
   "source": [
    "import networkx as nx\n",
    "\n",
    "import matplotlib.pyplot as plt\n",
    "%matplotlib inline\n",
    "import pydot\n",
    "from networkx.drawing.nx_pydot import graphviz_layout"
   ]
  },
  {
   "cell_type": "code",
   "execution_count": 2,
   "id": "38db34a3",
   "metadata": {},
   "outputs": [],
   "source": [
    "def draw_edge(tree, edge, color, curvature, edge_label):\n",
    "    nx.draw_networkx_edges(\n",
    "        tree, \n",
    "        pos = pos, \n",
    "        edgelist = [edge],  \n",
    "        edge_color = color,\n",
    "        connectionstyle=f'arc3,rad={curvature}', \n",
    "        arrowstyle = '-',\n",
    "        style = '--',\n",
    "        width = 1.5,\n",
    "        node_size = 100\n",
    "    )\n",
    "    nx.draw_networkx_edge_labels(tree, pos = pos, edge_labels = {edge: edge_label}, font_color = 'C0', bbox = dict(alpha=0))"
   ]
  },
  {
   "cell_type": "code",
   "execution_count": 3,
   "id": "cb8f8106",
   "metadata": {},
   "outputs": [
    {
     "data": {
      "image/png": "[encoded data removed]",
      "text/plain": [
       "<Figure size 864x288 with 1 Axes>"
      ]
     },
     "metadata": {},
     "output_type": "display_data"
    }
   ],
   "source": [
    "fig, ax = plt.subplots(1,1,tight_layout = True)\n",
    "fig.set_size_inches(12, 4)\n",
    "\n",
    "plt.sca(ax)\n",
    "plt.axis('off')\n",
    "edgeset = [(1,3), (2,3), (3,4), (4,5), (5,6), (6,7), (7,8), (8,9), (9,10), (10,11), (11,12), (11,13)]\n",
    "tree = nx.Graph(edgeset)\n",
    "directed_tree = nx.DiGraph(edgeset)\n",
    "\n",
    "pos = {\n",
    "    1: (-0.5,0),\n",
    "    2: (0.5,0),\n",
    "    3: (0,1),\n",
    "    4: (0,2),\n",
    "    5: (1,2),\n",
    "    6: (2,2),\n",
    "    7: (3,2),\n",
    "    8: (4,2),\n",
    "    9: (5,2),\n",
    "    10: (6,2),\n",
    "    11: (6,1),\n",
    "    12: (5.5,0),\n",
    "    13: (6.5,0)\n",
    "}\n",
    "nx.draw_networkx(\n",
    "    tree,\n",
    "    pos = pos,\n",
    "    edge_color = 'black',\n",
    "    node_color = 'black',\n",
    "    node_size = 100,\n",
    "    arrowstyle = '-',\n",
    "    width = 1.5,\n",
    "    with_labels = False\n",
    ")\n",
    "\n",
    "draw_edge(directed_tree, (1,2), 'C0', 0.3,'')\n",
    "draw_edge(directed_tree, (2,12), 'C0', 0.1,'')\n",
    "draw_edge(directed_tree, (12,13), 'C0', 0.3,'')\n",
    "\n",
    "\n",
    "plt.text(0, 0, '1', horizontalalignment = 'center', verticalalignment = 'center', color = 'C0')\n",
    "plt.text(6, 0, '3', horizontalalignment = 'center', verticalalignment = 'center', color = 'C0')\n",
    "plt.text(3, -0.15, '2', horizontalalignment = 'center', verticalalignment = 'center', color = 'C0')\n",
    "\n",
    "\n",
    "\n",
    "plt.savefig('../report_images/tree_examples/max_weight_matching_naive.png', dpi = 200)\n",
    "plt.show()"
   ]
  },
  {
   "cell_type": "code",
   "execution_count": null,
   "id": "85829cae",
   "metadata": {},
   "outputs": [],
   "source": []
  }
 ],
 "metadata": {
  "hide_input": false,
  "kernelspec": {
   "display_name": "Python 3 (ipykernel)",
   "language": "python",
   "name": "python3"
  },
  "language_info": {
   "codemirror_mode": {
    "name": "ipython",
    "version": 3
   },
   "file_extension": ".py",
   "mimetype": "text/x-python",
   "name": "python",
   "nbconvert_exporter": "python",
   "pygments_lexer": "ipython3",
   "version": "3.9.6"
  }
 },
 "nbformat": 4,
 "nbformat_minor": 5
}
