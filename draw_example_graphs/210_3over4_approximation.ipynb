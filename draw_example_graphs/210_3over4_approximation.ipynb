{
 "cells": [
  {
   "cell_type": "code",
   "execution_count": 1,
   "id": "c4492c2e",
   "metadata": {},
   "outputs": [],
   "source": [
    "import networkx as nx\n",
    "\n",
    "import matplotlib.pyplot as plt\n",
    "%matplotlib inline\n",
    "import pydot\n",
    "from networkx.drawing.nx_pydot import graphviz_layout"
   ]
  },
  {
   "cell_type": "code",
   "execution_count": 3,
   "id": "38db34a3",
   "metadata": {},
   "outputs": [],
   "source": [
    "def draw_edge(tree, edge, color, curvature, edge_label = '', edge_width = 2, linestyle = '--'):\n",
    "    nx.draw_networkx_edges(\n",
    "        tree, \n",
    "        pos = pos, \n",
    "        edgelist = [edge],  \n",
    "        edge_color = color,\n",
    "        connectionstyle=f'arc3,rad={curvature}', \n",
    "        arrowstyle = '-',\n",
    "        style = linestyle,\n",
    "        width = edge_width,\n",
    "        node_size = 100\n",
    "    )\n",
    "    nx.draw_networkx_edge_labels(tree, pos = pos, edge_labels = {edge: edge_label}, font_size = 12, font_color = 'C0', bbox = dict(alpha=0))"
   ]
  },
  {
   "cell_type": "code",
   "execution_count": 5,
   "id": "cb8f8106",
   "metadata": {},
   "outputs": [
    {
     "data": {
      "image/png": "[encoded data removed]",
      "text/plain": [
       "<Figure size 576x288 with 1 Axes>"
      ]
     },
     "metadata": {},
     "output_type": "display_data"
    }
   ],
   "source": [
    "fig, ax = plt.subplots(1,1,tight_layout = True)\n",
    "fig.set_size_inches(8, 4)\n",
    "\n",
    "plt.sca(ax)\n",
    "plt.axis('off')\n",
    "edgeset = [(1,2), (2,3), (3,4), (4,5), (5,6), (3,7), (7,8), (7,9), (7,10)]\n",
    "tree = nx.Graph(edgeset)\n",
    "directed_tree = nx.DiGraph(edgeset)\n",
    "\n",
    "pos = {\n",
    "    1: (0,2),\n",
    "    2: (1,2),\n",
    "    3: (2,2),\n",
    "    4: (3,2),\n",
    "    5: (4,2),\n",
    "    6: (5,2),\n",
    "    7: (2,1),\n",
    "    8: (1,0),\n",
    "    9: (2,0),\n",
    "    10: (3,0)\n",
    "}\n",
    "\n",
    "nx.draw_networkx(\n",
    "    directed_tree,\n",
    "    pos = pos,\n",
    "    edge_color = 'black',\n",
    "    node_color = 'black',\n",
    "    arrowstyle = '-',\n",
    "    width = 1.5,\n",
    "    node_size = 100\n",
    ")\n",
    "\n",
    "\n",
    "draw_edge(directed_tree, (1,6), 'C0', -0.2)\n",
    "draw_edge(directed_tree, (1,8), 'C0', 0.2)\n",
    "draw_edge(directed_tree, (8,9), 'C0', 0.2)\n",
    "draw_edge(directed_tree, (9,10), 'C0', 0.2)\n",
    "\n",
    "\n",
    "plt.savefig('../presentation_images/3over4_approximation.png', dpi = 200)\n",
    "plt.show()"
   ]
  },
  {
   "cell_type": "code",
   "execution_count": null,
   "id": "6d94bcde",
   "metadata": {},
   "outputs": [],
   "source": []
  }
 ],
 "metadata": {
  "hide_input": false,
  "kernelspec": {
   "display_name": "Python 3 (ipykernel)",
   "language": "python",
   "name": "python3"
  },
  "language_info": {
   "codemirror_mode": {
    "name": "ipython",
    "version": 3
   },
   "file_extension": ".py",
   "mimetype": "text/x-python",
   "name": "python",
   "nbconvert_exporter": "python",
   "pygments_lexer": "ipython3",
   "version": "3.9.6"
  }
 },
 "nbformat": 4,
 "nbformat_minor": 5
}
